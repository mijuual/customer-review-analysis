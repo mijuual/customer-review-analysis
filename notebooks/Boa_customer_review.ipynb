{
 "cells": [
  {
   "cell_type": "code",
   "execution_count": 3,
   "id": "65133fa1",
   "metadata": {},
   "outputs": [],
   "source": [
    "import sys\n",
    "import os\n",
    "import pandas as pd\n",
    "\n",
    "# Add scripts folder to path\n",
    "sys.path.append(os.path.abspath(\"../scripts\"))\n",
    "from sklearn.feature_extraction.text import TfidfVectorizer\n",
    "from scraper_preprocessing.preprocess import preprocess_reviews\n",
    "from sentiment_thematic_analysis.sentiment_using_VADER import vader_sentiment,apply_vader_sentiment,aggregate_sentiment\n",
    "from sentiment_thematic_analysis.thematic import extract_top_ngrams, run_sklearn_lda,group_topics_into_themes\n",
    "\n",
    "# from sentiment_thematic_analysis.sentiment import apply_sentiment, aggregate_sentiment\n",
    "\n",
    "\n"
   ]
  },
  {
   "cell_type": "code",
   "execution_count": null,
   "id": "58f257ca",
   "metadata": {},
   "outputs": [],
   "source": [
    "# Clean the CBE file\n",
    "preprocess_reviews(\n",
    "    input_path=\"../data/raw/boa_reviews.csv\",\n",
    "    output_path=\"../data/clean/boa_clean.csv\"\n",
    ")"
   ]
  },
  {
   "cell_type": "code",
   "execution_count": null,
   "id": "40df0abb",
   "metadata": {},
   "outputs": [],
   "source": [
    "df = apply_vader_sentiment(\"../data/clean/boa_clean.csv\",\"../data/processed/boa_processed.csv\")\n"
   ]
  },
  {
   "cell_type": "code",
   "execution_count": null,
   "id": "fce08a94",
   "metadata": {},
   "outputs": [],
   "source": [
    "aggregate_sentiment(df, \"../data/processed/boa_rate_aggregated.csv\")"
   ]
  },
  {
   "cell_type": "code",
   "execution_count": 8,
   "id": "bedc6cff",
   "metadata": {},
   "outputs": [],
   "source": [
    "aggregate_sentiment(df, \"../data/processed/boa_rate_aggregated.csv\")"
   ]
  },
  {
   "cell_type": "markdown",
   "id": "d8cddc8e",
   "metadata": {},
   "source": [
    "Thematic analysis"
   ]
  },
  {
   "cell_type": "code",
   "execution_count": 4,
   "id": "e06508d1",
   "metadata": {},
   "outputs": [],
   "source": [
    "# Load sentiment-reviewed data\n",
    "df = pd.read_csv(\"../data/processed/boa_processed.csv\")\n",
    "\n",
    "# Extract top unigrams and bigrams\n",
    "keywords = extract_top_ngrams(df, ngram_range=(1, 2), top_n=20)\n",
    "\n",
    "# Run LDA and capture vectorizer and model\n",
    "vectorizer, lda_model = run_sklearn_lda(df, n_topics=5, n_top_words=10)\n",
    "\n"
   ]
  },
  {
   "cell_type": "code",
   "execution_count": 5,
   "id": "60d48a2e",
   "metadata": {},
   "outputs": [],
   "source": [
    "group_topics_into_themes(df, lda_model, vectorizer, bank_name=\"Bank of Abyssinia Mobile\")"
   ]
  }
 ],
 "metadata": {
  "kernelspec": {
   "display_name": ".venv",
   "language": "python",
   "name": "python3"
  },
  "language_info": {
   "codemirror_mode": {
    "name": "ipython",
    "version": 3
   },
   "file_extension": ".py",
   "mimetype": "text/x-python",
   "name": "python",
   "nbconvert_exporter": "python",
   "pygments_lexer": "ipython3",
   "version": "3.12.3"
  }
 },
 "nbformat": 4,
 "nbformat_minor": 5
}
