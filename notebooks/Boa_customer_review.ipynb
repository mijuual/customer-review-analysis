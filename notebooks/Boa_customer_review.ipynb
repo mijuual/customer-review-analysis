{
 "cells": [
  {
   "cell_type": "code",
   "execution_count": null,
   "id": "65133fa1",
   "metadata": {},
   "outputs": [],
   "source": [
    "import sys\n",
    "import os\n",
    "import pandas as pd\n",
    "\n",
    "# Add scripts folder to path\n",
    "sys.path.append(os.path.abspath(\"../scripts\"))\n",
    "from sklearn.feature_extraction.text import TfidfVectorizer\n",
    "from scraper_preprocessing.preprocess import preprocess_reviews\n",
    "from sentiment_thematic_analysis.sentiment_using_VADER import vader_sentiment,apply_vader_sentiment,aggregate_sentiment\n",
    "from sentiment_thematic_analysis.thematic import extract_top_ngrams, run_sklearn_lda,group_topics_into_themes\n",
    "\n",
    "# from sentiment_thematic_analysis.sentiment import apply_sentiment, aggregate_sentiment\n",
    "\n",
    "\n"
   ]
  },
  {
   "cell_type": "code",
   "execution_count": null,
   "id": "58f257ca",
   "metadata": {},
   "outputs": [],
   "source": [
    "# Clean the CBE file\n",
    "preprocess_reviews(\n",
    "    input_path=\"../data/raw/boa_reviews.csv\",\n",
    "    output_path=\"../data/clean/boa_clean.csv\"\n",
    ")"
   ]
  },
  {
   "cell_type": "code",
   "execution_count": null,
   "id": "40df0abb",
   "metadata": {},
   "outputs": [],
   "source": [
    "df = apply_vader_sentiment(\"../data/clean/boa_clean.csv\",\"../data/processed/boa_processed.csv\")\n"
   ]
  },
  {
   "cell_type": "code",
   "execution_count": null,
   "id": "fce08a94",
   "metadata": {},
   "outputs": [],
   "source": [
    "aggregate_sentiment(df, \"../data/processed/boa_rate_aggregated.csv\")"
   ]
  },
  {
   "cell_type": "code",
   "execution_count": 8,
   "id": "bedc6cff",
   "metadata": {},
   "outputs": [
    {
     "name": "stdout",
     "output_type": "stream",
     "text": [
      "Aggregated sentiment saved to ../data/processed/boa_rate_aggregated.csv\n"
     ]
    },
    {
     "data": {
      "text/html": [
       "<div>\n",
       "<style scoped>\n",
       "    .dataframe tbody tr th:only-of-type {\n",
       "        vertical-align: middle;\n",
       "    }\n",
       "\n",
       "    .dataframe tbody tr th {\n",
       "        vertical-align: top;\n",
       "    }\n",
       "\n",
       "    .dataframe thead th {\n",
       "        text-align: right;\n",
       "    }\n",
       "</style>\n",
       "<table border=\"1\" class=\"dataframe\">\n",
       "  <thead>\n",
       "    <tr style=\"text-align: right;\">\n",
       "      <th></th>\n",
       "      <th>bank</th>\n",
       "      <th>rating</th>\n",
       "      <th>mean_sentiment_score</th>\n",
       "      <th>review_count</th>\n",
       "      <th>sentiment_breakdown</th>\n",
       "    </tr>\n",
       "  </thead>\n",
       "  <tbody>\n",
       "    <tr>\n",
       "      <th>0</th>\n",
       "      <td>Bank of Abyssinia Mobile</td>\n",
       "      <td>1</td>\n",
       "      <td>-0.128201</td>\n",
       "      <td>163</td>\n",
       "      <td>{'negative': 74, 'neutral': 52, 'positive': 37}</td>\n",
       "    </tr>\n",
       "    <tr>\n",
       "      <th>1</th>\n",
       "      <td>Bank of Abyssinia Mobile</td>\n",
       "      <td>2</td>\n",
       "      <td>0.176245</td>\n",
       "      <td>11</td>\n",
       "      <td>{'neutral': 5, 'positive': 5, 'negative': 1}</td>\n",
       "    </tr>\n",
       "    <tr>\n",
       "      <th>2</th>\n",
       "      <td>Bank of Abyssinia Mobile</td>\n",
       "      <td>3</td>\n",
       "      <td>0.189800</td>\n",
       "      <td>31</td>\n",
       "      <td>{'positive': 16, 'neutral': 11, 'negative': 4}</td>\n",
       "    </tr>\n",
       "    <tr>\n",
       "      <th>3</th>\n",
       "      <td>Bank of Abyssinia Mobile</td>\n",
       "      <td>4</td>\n",
       "      <td>0.334124</td>\n",
       "      <td>17</td>\n",
       "      <td>{'positive': 10, 'neutral': 7}</td>\n",
       "    </tr>\n",
       "    <tr>\n",
       "      <th>4</th>\n",
       "      <td>Bank of Abyssinia Mobile</td>\n",
       "      <td>5</td>\n",
       "      <td>0.342161</td>\n",
       "      <td>177</td>\n",
       "      <td>{'positive': 120, 'neutral': 55, 'negative': 2}</td>\n",
       "    </tr>\n",
       "  </tbody>\n",
       "</table>\n",
       "</div>"
      ],
      "text/plain": [
       "                       bank  rating  mean_sentiment_score  review_count  \\\n",
       "0  Bank of Abyssinia Mobile       1             -0.128201           163   \n",
       "1  Bank of Abyssinia Mobile       2              0.176245            11   \n",
       "2  Bank of Abyssinia Mobile       3              0.189800            31   \n",
       "3  Bank of Abyssinia Mobile       4              0.334124            17   \n",
       "4  Bank of Abyssinia Mobile       5              0.342161           177   \n",
       "\n",
       "                               sentiment_breakdown  \n",
       "0  {'negative': 74, 'neutral': 52, 'positive': 37}  \n",
       "1     {'neutral': 5, 'positive': 5, 'negative': 1}  \n",
       "2   {'positive': 16, 'neutral': 11, 'negative': 4}  \n",
       "3                   {'positive': 10, 'neutral': 7}  \n",
       "4  {'positive': 120, 'neutral': 55, 'negative': 2}  "
      ]
     },
     "execution_count": 8,
     "metadata": {},
     "output_type": "execute_result"
    }
   ],
   "source": [
    "aggregate_sentiment(df, \"../data/processed/boa_rate_aggregated.csv\")"
   ]
  },
  {
   "cell_type": "markdown",
   "id": "d8cddc8e",
   "metadata": {},
   "source": [
    "Thematic analysis"
   ]
  },
  {
   "cell_type": "code",
   "execution_count": null,
   "id": "e06508d1",
   "metadata": {},
   "outputs": [
    {
     "name": "stdout",
     "output_type": "stream",
     "text": [
      "\n",
      "🔍 Top 20 keywords for: Bank of Abyssinia Mobile\n",
      "good                      41.48\n",
      "app                       25.75\n",
      "best                      13.93\n",
      "nice                      11.48\n",
      "work                      9.98\n",
      "boa                       9.87\n",
      "working                   8.22\n",
      "bank                      7.50\n",
      "ok                        7.00\n",
      "great                     6.47\n",
      "worst                     6.12\n",
      "wow                       5.71\n",
      "like                      5.66\n",
      "use                       5.62\n",
      "bad                       5.46\n",
      "mobile                    5.40\n",
      "banking                   5.14\n",
      "best app                  4.98\n",
      "application               4.94\n",
      "time                      4.36\n"
     ]
    }
   ],
   "source": [
    "# Load sentiment-reviewed data\n",
    "df = pd.read_csv(\"../data/processed/boa_processed.csv\")\n",
    "\n",
    "# Extract top unigrams and bigrams\n",
    "keywords = extract_top_ngrams(df, ngram_range=(1, 2), top_n=20)\n",
    "\n",
    "# Run LDA and capture vectorizer and model\n",
    "vectorizer, lda_model = run_sklearn_lda(df, n_topics=5, n_top_words=10)\n",
    "\n"
   ]
  },
  {
   "cell_type": "code",
   "execution_count": null,
   "id": "60d48a2e",
   "metadata": {},
   "outputs": [
    {
     "ename": "NameError",
     "evalue": "name 'group_topics_into_themes' is not defined",
     "output_type": "error",
     "traceback": [
      "\u001b[31m---------------------------------------------------------------------------\u001b[39m",
      "\u001b[31mNameError\u001b[39m                                 Traceback (most recent call last)",
      "\u001b[36mCell\u001b[39m\u001b[36m \u001b[39m\u001b[32mIn[1]\u001b[39m\u001b[32m, line 1\u001b[39m\n\u001b[32m----> \u001b[39m\u001b[32m1\u001b[39m \u001b[43mgroup_topics_into_themes\u001b[49m(df, lda_model, vectorizer, bank_name=\u001b[33m\"\u001b[39m\u001b[33mBank of Abyssinia\u001b[39m\u001b[33m\"\u001b[39m)\n",
      "\u001b[31mNameError\u001b[39m: name 'group_topics_into_themes' is not defined"
     ]
    }
   ],
   "source": [
    "group_topics_into_themes(df, lda_model, vectorizer, bank_name=\"Bank of Abyssinia Mobile\")"
   ]
  }
 ],
 "metadata": {
  "kernelspec": {
   "display_name": ".venv",
   "language": "python",
   "name": "python3"
  },
  "language_info": {
   "codemirror_mode": {
    "name": "ipython",
    "version": 3
   },
   "file_extension": ".py",
   "mimetype": "text/x-python",
   "name": "python",
   "nbconvert_exporter": "python",
   "pygments_lexer": "ipython3",
   "version": "3.12.3"
  }
 },
 "nbformat": 4,
 "nbformat_minor": 5
}
