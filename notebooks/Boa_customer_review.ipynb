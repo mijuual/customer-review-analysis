{
 "cells": [
  {
   "cell_type": "code",
   "execution_count": 1,
   "id": "65133fa1",
   "metadata": {},
   "outputs": [],
   "source": [
    "import sys\n",
    "import os\n",
    "\n",
    "# Add scripts folder to path\n",
    "sys.path.append(os.path.abspath(\"../scripts\"))\n",
    "\n",
    "from scraper_preprocessing.preprocess import preprocess_reviews\n",
    "\n",
    "\n"
   ]
  },
  {
   "cell_type": "code",
   "execution_count": null,
   "id": "58f257ca",
   "metadata": {},
   "outputs": [],
   "source": [
    "# Clean the CBE file\n",
    "preprocess_reviews(\n",
    "    input_path=\"../data/raw/boa_reviews.csv\",\n",
    "    output_path=\"../data/clean/boa_clean.csv\"\n",
    ")"
   ]
  }
 ],
 "metadata": {
  "kernelspec": {
   "display_name": ".venv",
   "language": "python",
   "name": "python3"
  },
  "language_info": {
   "codemirror_mode": {
    "name": "ipython",
    "version": 3
   },
   "file_extension": ".py",
   "mimetype": "text/x-python",
   "name": "python",
   "nbconvert_exporter": "python",
   "pygments_lexer": "ipython3",
   "version": "3.12.3"
  }
 },
 "nbformat": 4,
 "nbformat_minor": 5
}
