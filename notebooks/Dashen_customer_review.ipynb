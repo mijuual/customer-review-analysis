{
 "cells": [
  {
   "cell_type": "code",
   "execution_count": null,
   "id": "0083b5b1",
   "metadata": {},
   "outputs": [],
   "source": [
    "import sys\n",
    "import os\n",
    "import pandas as pd\n",
    "\n",
    "# Add scripts folder to path\n",
    "sys.path.append(os.path.abspath(\"../scripts\"))\n",
    "from sklearn.feature_extraction.text import TfidfVectorizer\n",
    "from scraper_preprocessing.preprocess import preprocess_reviews\n",
    "from sentiment_thematic_analysis.sentiment_using_VADER import vader_sentiment,apply_vader_sentiment,aggregate_sentiment\n",
    "from sentiment_thematic_analysis.thematic import extract_top_ngrams, run_sklearn_lda,group_topics_into_themes\n",
    "\n",
    "# from sentiment_thematic_analysis.sentiment import apply_sentiment, aggregate_sentiment\n",
    "\n",
    "\n"
   ]
  },
  {
   "cell_type": "code",
   "execution_count": null,
   "id": "4f0e302b",
   "metadata": {},
   "outputs": [],
   "source": [
    "# Clean the CBE file\n",
    "preprocess_reviews(\n",
    "    input_path=\"../data/raw/dashen_reviews.csv\",\n",
    "    output_path=\"../data/clean/dashen_clean.csv\"\n",
    ")"
   ]
  },
  {
   "cell_type": "code",
   "execution_count": null,
   "id": "b89e2033",
   "metadata": {},
   "outputs": [],
   "source": [
    "df = apply_vader_sentiment(\"../data/clean/dashen_clean.csv\",\"../data/processed/dashen_processed.csv\")\n"
   ]
  },
  {
   "cell_type": "code",
   "execution_count": null,
   "id": "5251a288",
   "metadata": {},
   "outputs": [],
   "source": [
    "aggregate_sentiment(df, \"../data/processed/dashen_rate_aggregated.csv\")"
   ]
  },
  {
   "cell_type": "markdown",
   "id": "f0078495",
   "metadata": {},
   "source": [
    "Thematic analysis"
   ]
  },
  {
   "cell_type": "code",
   "execution_count": null,
   "id": "7f169d4f",
   "metadata": {},
   "outputs": [
    {
     "name": "stdout",
     "output_type": "stream",
     "text": [
      "\n",
      "🔍 Top 20 keywords for: Dashen Bank SuperApp\n",
      "app                       30.96\n",
      "good                      29.03\n",
      "best                      21.26\n",
      "dashen                    13.67\n",
      "wow                       13.28\n",
      "super                     12.92\n",
      "nice                      11.74\n",
      "bank                      11.03\n",
      "amazing                   10.81\n",
      "banking                   10.27\n",
      "use                       9.21\n",
      "easy                      8.95\n",
      "fast                      8.86\n",
      "dashen bank               8.63\n",
      "application               8.51\n",
      "super app                 8.25\n",
      "best app                  7.46\n",
      "feature                   6.02\n",
      "transaction               5.60\n",
      "work                      5.40\n"
     ]
    }
   ],
   "source": [
    "# Load sentiment-reviewed data\n",
    "df = pd.read_csv(\"../data/processed/dashen_processed.csv\")\n",
    "\n",
    "# Extract top unigrams and bigrams\n",
    "keywords = extract_top_ngrams(df, ngram_range=(1, 2), top_n=20)\n",
    "\n",
    "# Run LDA and capture vectorizer and model\n",
    "vectorizer, lda_model = run_sklearn_lda(df, n_topics=5, n_top_words=10)\n",
    "\n"
   ]
  },
  {
   "cell_type": "code",
   "execution_count": null,
   "id": "dc28498f",
   "metadata": {},
   "outputs": [],
   "source": [
    "group_topics_into_themes(df, lda_model, vectorizer, bank_name=\"CBE\")"
   ]
  }
 ],
 "metadata": {
  "kernelspec": {
   "display_name": ".venv",
   "language": "python",
   "name": "python3"
  },
  "language_info": {
   "codemirror_mode": {
    "name": "ipython",
    "version": 3
   },
   "file_extension": ".py",
   "mimetype": "text/x-python",
   "name": "python",
   "nbconvert_exporter": "python",
   "pygments_lexer": "ipython3",
   "version": "3.12.3"
  }
 },
 "nbformat": 4,
 "nbformat_minor": 5
}
