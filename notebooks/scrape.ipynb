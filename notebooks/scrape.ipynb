{
 "cells": [
  {
   "cell_type": "code",
   "execution_count": null,
   "id": "d5657b6e",
   "metadata": {},
   "outputs": [],
   "source": [
    "import sys\n",
    "import os\n",
    "\n",
    "# Add project 'scripts' folder to path\n",
    "sys.path.append(os.path.abspath(\"../scripts\"))\n",
    "\n",
    "from scraper_preprocessing.scraper import scrape_all"
   ]
  },
  {
   "cell_type": "code",
   "execution_count": null,
   "id": "ea6d92b4",
   "metadata": {},
   "outputs": [],
   "source": [
    "# Scrape and save raw reviews\n",
    "scrape_all()"
   ]
  }
 ],
 "metadata": {
  "kernelspec": {
   "display_name": ".venv",
   "language": "python",
   "name": "python3"
  },
  "language_info": {
   "codemirror_mode": {
    "name": "ipython",
    "version": 3
   },
   "file_extension": ".py",
   "mimetype": "text/x-python",
   "name": "python",
   "nbconvert_exporter": "python",
   "pygments_lexer": "ipython3",
   "version": "3.12.3"
  }
 },
 "nbformat": 4,
 "nbformat_minor": 5
}
