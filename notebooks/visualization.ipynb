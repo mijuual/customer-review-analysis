{
 "cells": [
  {
   "cell_type": "code",
   "execution_count": null,
   "id": "5e4a2838",
   "metadata": {},
   "outputs": [],
   "source": [
    "from sklearn.feature_extraction.text import TfidfVectorizer\n",
    "import pandas as pd\n",
    "from glob import glob\n",
    "import matplotlib.pyplot as plt\n",
    "from wordcloud import WordCloud"
   ]
  },
  {
   "cell_type": "code",
   "execution_count": null,
   "id": "621d0d32",
   "metadata": {},
   "outputs": [],
   "source": [
    "# Load and concatenate all CSV files (adjust path pattern if needed)\n",
    "csv_files = glob(\"../data/processed/*.csv\")  # or use absolute paths if stored elsewhere\n",
    "df = pd.concat([pd.read_csv(file) for file in csv_files], ignore_index=True)"
   ]
  },
  {
   "cell_type": "code",
   "execution_count": null,
   "id": "d7e2b5f1",
   "metadata": {},
   "outputs": [],
   "source": [
    "def extract_top_keywords(bank_name, sentiment_label, max_features=10):\n",
    "    # Filter reviews for a specific bank and sentiment\n",
    "    filtered = df[(df['bank'] == bank_name) & (df['sentiment'] == sentiment_label)]\n",
    "    \n",
    "    reviews = filtered['review'].fillna('')\n",
    "\n",
    "    # Apply TF-IDF\n",
    "    vectorizer = TfidfVectorizer(stop_words='english', max_features=max_features)\n",
    "    X = vectorizer.fit_transform(reviews)\n",
    "\n",
    "    print(f\" Top keywords for {bank_name} [{sentiment_label}]:\")\n",
    "    print(vectorizer.get_feature_names_out())\n",
    "    print(\"-\" * 50)\n",
    "\n",
    "# Extract for all banks and both sentiments\n",
    "banks = df['bank'].unique()\n",
    "for bank in banks:\n",
    "    extract_top_keywords(bank, 'positive')\n",
    "    extract_top_keywords(bank, 'negative')"
   ]
  },
  {
   "cell_type": "code",
   "execution_count": null,
   "id": "7ec781c8",
   "metadata": {},
   "outputs": [],
   "source": [
    "def plot_top_keywords(bank_name, sentiment_label, max_features=10):\n",
    "    # Filter reviews\n",
    "    filtered = df[(df['bank'] == bank_name) & (df['sentiment'] == sentiment_label)]\n",
    "    reviews = filtered['review'].fillna('')\n",
    "\n",
    "    if reviews.empty:\n",
    "        print(f\"No data for {bank_name} [{sentiment_label}]\")\n",
    "        return\n",
    "\n",
    "    # TF-IDF\n",
    "    vectorizer = TfidfVectorizer(stop_words='english', max_features=max_features)\n",
    "    X = vectorizer.fit_transform(reviews)\n",
    "    feature_names = vectorizer.get_feature_names_out()\n",
    "    scores = X.sum(axis=0).A1  # Convert sparse matrix to array\n",
    "    keyword_scores = dict(zip(feature_names, scores))\n",
    "\n",
    "    # Plot\n",
    "    plt.figure(figsize=(8, 4))\n",
    "    plt.barh(list(keyword_scores.keys()), list(keyword_scores.values()), color='skyblue')\n",
    "    plt.title(f\"Top Keywords for {bank_name} ({sentiment_label})\")\n",
    "    plt.xlabel(\"TF-IDF Score\")\n",
    "    plt.gca().invert_yaxis()\n",
    "    plt.tight_layout()\n",
    "    plt.show()\n",
    "\n",
    "#  Run for all banks and both sentiments\n",
    "banks = df['bank'].unique()\n",
    "for bank in banks:\n",
    "    plot_top_keywords(bank, 'positive')\n",
    "    plot_top_keywords(bank, 'negative')"
   ]
  },
  {
   "cell_type": "code",
   "execution_count": null,
   "id": "8210eacc",
   "metadata": {},
   "outputs": [],
   "source": [
    "def plot_wordcloud(df, bank_name, sentiment_label, max_features=50):\n",
    "    # Filter data\n",
    "    filtered = df[(df['bank'] == bank_name) & (df['sentiment'] == sentiment_label)]\n",
    "    reviews = filtered['review'].fillna('')\n",
    "\n",
    "    if reviews.empty:\n",
    "        print(f\"No data for {bank_name} [{sentiment_label}]\")\n",
    "        return\n",
    "\n",
    "    # TF-IDF to get weighted words\n",
    "    vectorizer = TfidfVectorizer(stop_words='english', max_features=max_features)\n",
    "    X = vectorizer.fit_transform(reviews)\n",
    "    feature_names = vectorizer.get_feature_names_out()\n",
    "    scores = X.sum(axis=0).A1\n",
    "    word_scores = dict(zip(feature_names, scores))\n",
    "\n",
    "    # Generate Word Cloud\n",
    "    wordcloud = WordCloud(width=800, height=400, background_color='white').generate_from_frequencies(word_scores)\n",
    "\n",
    "    # Plot\n",
    "    plt.figure(figsize=(10, 5))\n",
    "    plt.imshow(wordcloud, interpolation='bilinear')\n",
    "    plt.title(f\"Word Cloud for {bank_name} ({sentiment_label})\")\n",
    "    plt.axis('off')\n",
    "    plt.tight_layout()\n",
    "    plt.show()\n",
    "\n",
    "# Example usage for all banks and sentiments\n",
    "banks = df['bank'].unique()\n",
    "for bank in banks:\n",
    "    plot_wordcloud(df, bank, 'positive')\n",
    "    plot_wordcloud(df, bank, 'negative')"
   ]
  },
  {
   "cell_type": "markdown",
   "id": "e918f92c",
   "metadata": {},
   "source": [
    "comparision between banks"
   ]
  },
  {
   "cell_type": "code",
   "execution_count": 15,
   "id": "fd882864",
   "metadata": {},
   "outputs": [
    {
     "name": "stdout",
     "output_type": "stream",
     "text": [
      "🔍 Sentiment Distribution by Bank (proportion):\n",
      "bank                                sentiment\n",
      "Bank of Abyssinia Mobile            positive     0.471178\n",
      "                                    neutral      0.325815\n",
      "                                    negative     0.203008\n",
      "Commercial Bank of Ethiopia Mobile  positive     0.685422\n",
      "                                    neutral      0.248082\n",
      "                                    negative     0.066496\n",
      "Dashen Bank SuperApp                positive     0.759398\n",
      "                                    neutral      0.200501\n",
      "                                    negative     0.040100\n",
      "Name: proportion, dtype: float64\n",
      "⭐ Average Rating by Bank:\n",
      "bank\n",
      "Bank of Abyssinia Mobile              3.085213\n",
      "Commercial Bank of Ethiopia Mobile    4.189258\n",
      "Dashen Bank SuperApp                  4.431078\n",
      "Name: rating, dtype: float64\n"
     ]
    }
   ],
   "source": [
    "print(\"🔍 Sentiment Distribution by Bank (proportion):\")\n",
    "print(df.groupby('bank')['sentiment'].value_counts(normalize=True))\n",
    "print(\"⭐ Average Rating by Bank:\")\n",
    "\n",
    "print(df.groupby('bank')['rating'].mean())\n",
    "\n"
   ]
  },
  {
   "cell_type": "code",
   "execution_count": null,
   "id": "2da11ec8",
   "metadata": {},
   "outputs": [],
   "source": [
    "# Sentiment distribution per bank (as percentages)\n",
    "print(\"🔍 Sentiment Distribution by Bank (proportion):\")\n",
    "print(df.groupby('bank')['sentiment'].value_counts(normalize=True).unstack().round(2))\n",
    "print(\"\\n\")\n",
    "\n",
    "# Average rating per bank\n",
    "print(\"⭐ Average Rating by Bank:\")\n",
    "print(df.groupby('bank')['rating'].mean().round(2))"
   ]
  },
  {
   "cell_type": "markdown",
   "id": "19a3d0d9",
   "metadata": {},
   "source": [
    "Bank of Abyssinia Mobile (BoA)\n",
    "🔻 Lowest average rating: 3.08\n",
    "\n",
    "- High neutral/negative proportion: ~52.8% combined\n",
    "\n",
    "🔍 Top Negative Keywords:\n",
    "['app', 'bad', 'boa', 'fix', 'make', 'mobile', 'time', 'work', 'worst']\n",
    "\n",
    "✅ Suggestions:\n",
    "App reliability: Keywords like \"fix\", \"work\", \"worst\" indicate performance issues — consider improving app stability and responsiveness.\n",
    "\n",
    "User Experience: Complaints about \"time\" may point to long loading times — optimize startup time and reduce lag.\n",
    "\n",
    "Feedback loop: Add in-app options for reporting issues easily and reward feedback with updates.\n",
    "\n",
    "Update frequency: Make improvements visible through regular updates with changelogs to rebuild trust.\n",
    "\n",
    " Commercial Bank of Ethiopia Mobile (CBE)\n",
    "⭐ Average rating: 4.19\n",
    "\n",
    " Sentiment mostly positive: ~68.5%\n",
    "\n",
    "🔍 Top Negative Keywords:\n",
    "['account', 'app', 'application', 'bad', 'banking', 'seen', 'service']\n",
    "\n",
    "✅ Suggestions:\n",
    "Account & service management: The words \"account\", \"service\" suggest issues with account features or poor customer support. Improve error handling and service consistency.\n",
    "\n",
    "Visibility of changes: The word \"seen\" could imply user actions not being reflected — improve transaction visibility and feedback mechanisms.\n",
    "\n",
    "Support: Enhance user support — maybe integrate live chat or smarter FAQs within the app.\n",
    "\n",
    " 3. Dashen Bank SuperApp\n",
    "🌟 Highest average rating: 4.43\n",
    "\n",
    "-  Very positive sentiment: ~76%\n",
    "\n",
    "🔍 Top Negative Keywords:\n",
    "['app', 'bad', 'disappointing', 'fix', 'money', 'opt', 'transaction']\n",
    "\n",
    "✅ Suggestions:\n",
    "Financial operations: \"money\", \"transaction\", \"disappointing\" suggest pain points with core banking actions. Ensure transaction confirmation, timing, and error handling are flawless.\n",
    "\n",
    "\"Opt\" issues: Might relate to login/authentication/OTP — test multi-device login and SMS reliability.\n",
    "\n",
    "Maintain the lead: Dashen is performing well — focus on retaining users and pushing minor usability refinements."
   ]
  }
 ],
 "metadata": {
  "kernelspec": {
   "display_name": ".venv",
   "language": "python",
   "name": "python3"
  },
  "language_info": {
   "codemirror_mode": {
    "name": "ipython",
    "version": 3
   },
   "file_extension": ".py",
   "mimetype": "text/x-python",
   "name": "python",
   "nbconvert_exporter": "python",
   "pygments_lexer": "ipython3",
   "version": "3.12.3"
  }
 },
 "nbformat": 4,
 "nbformat_minor": 5
}
